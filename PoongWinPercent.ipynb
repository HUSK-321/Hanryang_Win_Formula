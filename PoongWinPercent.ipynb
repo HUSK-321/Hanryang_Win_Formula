{
  "nbformat": 4,
  "nbformat_minor": 0,
  "metadata": {
    "colab": {
      "name": "PoongWinPercent",
      "provenance": [],
      "collapsed_sections": [],
      "authorship_tag": "ABX9TyN4PJA+zDp5HOMaqDJLamfg",
      "include_colab_link": true
    },
    "kernelspec": {
      "name": "python3",
      "display_name": "Python 3"
    },
    "language_info": {
      "name": "python"
    }
  },
  "cells": [
    {
      "cell_type": "markdown",
      "metadata": {
        "id": "view-in-github",
        "colab_type": "text"
      },
      "source": [
        "<a href=\"https://colab.research.google.com/github/JangHanjun/Hanryang_Win_Formula/blob/main/PoongWinPercent.ipynb\" target=\"_parent\"><img src=\"https://colab.research.google.com/assets/colab-badge.svg\" alt=\"Open In Colab\"/></a>"
      ]
    },
    {
      "cell_type": "code",
      "source": [
        "!curl -s https://raw.githubusercontent.com/teddylee777/machine-learning/master/99-Misc/01-Colab/mecab-colab.sh | bash"
      ],
      "metadata": {
        "id": "0DMGQfDosPpB"
      },
      "execution_count": null,
      "outputs": []
    },
    {
      "cell_type": "code",
      "execution_count": 34,
      "metadata": {
        "id": "swFL-akV0eh1"
      },
      "outputs": [],
      "source": [
        "import pandas as pd\n",
        "import numpy as np\n",
        "\n",
        "import matplotlib.pyplot as plt\n",
        "import re\n",
        "import urllib.request\n",
        "\n",
        "from konlpy.tag import Okt\n",
        "from konlpy.tag import Mecab\n",
        "from tqdm import tqdm\n",
        "\n",
        "from tensorflow.keras.preprocessing.text import Tokenizer\n",
        "from tensorflow.keras.preprocessing.sequence import pad_sequences"
      ]
    },
    {
      "cell_type": "markdown",
      "source": [
        "### 데이터 로드하기"
      ],
      "metadata": {
        "id": "82KwfknI2sp5"
      }
    },
    {
      "cell_type": "code",
      "source": [
        "chat_log = pd.read_csv('https://raw.githubusercontent.com/JangHanjun/Hanryang_Win_Formula/main/ChatLog.csv')\n",
        "# csv file : https://github.com/JangHanjun/Hanryang_Win_Formula/blob/main/ChatLog.csv\n",
        "\n",
        "train_data = chat_log[:6000]\n",
        "test_data = chat_log[6000:]\n",
        "\n",
        "train_data.head()"
      ],
      "metadata": {
        "colab": {
          "base_uri": "https://localhost:8080/",
          "height": 206
        },
        "id": "8s5H1Zzu2ulT",
        "outputId": "6b0c9e16-5cfb-4f4f-9fc2-5f2f07f12872"
      },
      "execution_count": 35,
      "outputs": [
        {
          "output_type": "execute_result",
          "data": {
            "text/plain": [
              "              TEXT  LABEL\n",
              "0               밟어      1\n",
              "1           이게 말이돼      1\n",
              "2      이거 저번에 했지않음      0\n",
              "3        대혼돈의 풍토토다      1\n",
              "4  풍월량 믿고 마리오 골랐다구      1"
            ],
            "text/html": [
              "\n",
              "  <div id=\"df-1202fda4-b225-4069-9147-e0cf017d3106\">\n",
              "    <div class=\"colab-df-container\">\n",
              "      <div>\n",
              "<style scoped>\n",
              "    .dataframe tbody tr th:only-of-type {\n",
              "        vertical-align: middle;\n",
              "    }\n",
              "\n",
              "    .dataframe tbody tr th {\n",
              "        vertical-align: top;\n",
              "    }\n",
              "\n",
              "    .dataframe thead th {\n",
              "        text-align: right;\n",
              "    }\n",
              "</style>\n",
              "<table border=\"1\" class=\"dataframe\">\n",
              "  <thead>\n",
              "    <tr style=\"text-align: right;\">\n",
              "      <th></th>\n",
              "      <th>TEXT</th>\n",
              "      <th>LABEL</th>\n",
              "    </tr>\n",
              "  </thead>\n",
              "  <tbody>\n",
              "    <tr>\n",
              "      <th>0</th>\n",
              "      <td>밟어</td>\n",
              "      <td>1</td>\n",
              "    </tr>\n",
              "    <tr>\n",
              "      <th>1</th>\n",
              "      <td>이게 말이돼</td>\n",
              "      <td>1</td>\n",
              "    </tr>\n",
              "    <tr>\n",
              "      <th>2</th>\n",
              "      <td>이거 저번에 했지않음</td>\n",
              "      <td>0</td>\n",
              "    </tr>\n",
              "    <tr>\n",
              "      <th>3</th>\n",
              "      <td>대혼돈의 풍토토다</td>\n",
              "      <td>1</td>\n",
              "    </tr>\n",
              "    <tr>\n",
              "      <th>4</th>\n",
              "      <td>풍월량 믿고 마리오 골랐다구</td>\n",
              "      <td>1</td>\n",
              "    </tr>\n",
              "  </tbody>\n",
              "</table>\n",
              "</div>\n",
              "      <button class=\"colab-df-convert\" onclick=\"convertToInteractive('df-1202fda4-b225-4069-9147-e0cf017d3106')\"\n",
              "              title=\"Convert this dataframe to an interactive table.\"\n",
              "              style=\"display:none;\">\n",
              "        \n",
              "  <svg xmlns=\"http://www.w3.org/2000/svg\" height=\"24px\"viewBox=\"0 0 24 24\"\n",
              "       width=\"24px\">\n",
              "    <path d=\"M0 0h24v24H0V0z\" fill=\"none\"/>\n",
              "    <path d=\"M18.56 5.44l.94 2.06.94-2.06 2.06-.94-2.06-.94-.94-2.06-.94 2.06-2.06.94zm-11 1L8.5 8.5l.94-2.06 2.06-.94-2.06-.94L8.5 2.5l-.94 2.06-2.06.94zm10 10l.94 2.06.94-2.06 2.06-.94-2.06-.94-.94-2.06-.94 2.06-2.06.94z\"/><path d=\"M17.41 7.96l-1.37-1.37c-.4-.4-.92-.59-1.43-.59-.52 0-1.04.2-1.43.59L10.3 9.45l-7.72 7.72c-.78.78-.78 2.05 0 2.83L4 21.41c.39.39.9.59 1.41.59.51 0 1.02-.2 1.41-.59l7.78-7.78 2.81-2.81c.8-.78.8-2.07 0-2.86zM5.41 20L4 18.59l7.72-7.72 1.47 1.35L5.41 20z\"/>\n",
              "  </svg>\n",
              "      </button>\n",
              "      \n",
              "  <style>\n",
              "    .colab-df-container {\n",
              "      display:flex;\n",
              "      flex-wrap:wrap;\n",
              "      gap: 12px;\n",
              "    }\n",
              "\n",
              "    .colab-df-convert {\n",
              "      background-color: #E8F0FE;\n",
              "      border: none;\n",
              "      border-radius: 50%;\n",
              "      cursor: pointer;\n",
              "      display: none;\n",
              "      fill: #1967D2;\n",
              "      height: 32px;\n",
              "      padding: 0 0 0 0;\n",
              "      width: 32px;\n",
              "    }\n",
              "\n",
              "    .colab-df-convert:hover {\n",
              "      background-color: #E2EBFA;\n",
              "      box-shadow: 0px 1px 2px rgba(60, 64, 67, 0.3), 0px 1px 3px 1px rgba(60, 64, 67, 0.15);\n",
              "      fill: #174EA6;\n",
              "    }\n",
              "\n",
              "    [theme=dark] .colab-df-convert {\n",
              "      background-color: #3B4455;\n",
              "      fill: #D2E3FC;\n",
              "    }\n",
              "\n",
              "    [theme=dark] .colab-df-convert:hover {\n",
              "      background-color: #434B5C;\n",
              "      box-shadow: 0px 1px 3px 1px rgba(0, 0, 0, 0.15);\n",
              "      filter: drop-shadow(0px 1px 2px rgba(0, 0, 0, 0.3));\n",
              "      fill: #FFFFFF;\n",
              "    }\n",
              "  </style>\n",
              "\n",
              "      <script>\n",
              "        const buttonEl =\n",
              "          document.querySelector('#df-1202fda4-b225-4069-9147-e0cf017d3106 button.colab-df-convert');\n",
              "        buttonEl.style.display =\n",
              "          google.colab.kernel.accessAllowed ? 'block' : 'none';\n",
              "\n",
              "        async function convertToInteractive(key) {\n",
              "          const element = document.querySelector('#df-1202fda4-b225-4069-9147-e0cf017d3106');\n",
              "          const dataTable =\n",
              "            await google.colab.kernel.invokeFunction('convertToInteractive',\n",
              "                                                     [key], {});\n",
              "          if (!dataTable) return;\n",
              "\n",
              "          const docLinkHtml = 'Like what you see? Visit the ' +\n",
              "            '<a target=\"_blank\" href=https://colab.research.google.com/notebooks/data_table.ipynb>data table notebook</a>'\n",
              "            + ' to learn more about interactive tables.';\n",
              "          element.innerHTML = '';\n",
              "          dataTable['output_type'] = 'display_data';\n",
              "          await google.colab.output.renderOutput(dataTable, element);\n",
              "          const docLink = document.createElement('div');\n",
              "          docLink.innerHTML = docLinkHtml;\n",
              "          element.appendChild(docLink);\n",
              "        }\n",
              "      </script>\n",
              "    </div>\n",
              "  </div>\n",
              "  "
            ]
          },
          "metadata": {},
          "execution_count": 35
        }
      ]
    },
    {
      "cell_type": "code",
      "source": [
        "train_data['LABEL'].value_counts().plot(kind = 'bar')\n",
        "print(train_data.groupby('LABEL').size().reset_index(name = 'count'))"
      ],
      "metadata": {
        "colab": {
          "base_uri": "https://localhost:8080/",
          "height": 317
        },
        "id": "WitUHBat3LAv",
        "outputId": "be4e1040-cfb9-40e1-89dc-92d6f1f46bb2"
      },
      "execution_count": 36,
      "outputs": [
        {
          "output_type": "stream",
          "name": "stdout",
          "text": [
            "   LABEL  count\n",
            "0      0   3485\n",
            "1      1   2515\n"
          ]
        },
        {
          "output_type": "display_data",
          "data": {
            "text/plain": [
              "<Figure size 432x288 with 1 Axes>"
            ],
            "image/png": "[encoded data removed]"
          },
          "metadata": {
            "needs_background": "light"
          }
        }
      ]
    },
    {
      "cell_type": "markdown",
      "source": [
        "토큰화 하기"
      ],
      "metadata": {
        "id": "J3iTf2Uu3oxa"
      }
    },
    {
      "cell_type": "code",
      "source": [
        "okt = Okt()\n",
        "mecab = Mecab()"
      ],
      "metadata": {
        "id": "V1WLHo_A3qY5"
      },
      "execution_count": 37,
      "outputs": []
    },
    {
      "cell_type": "code",
      "source": [
        "X_train = []\n",
        "for sentence in tqdm(train_data['TEXT']):\n",
        "    # three tokinizer\n",
        "    # tokenized_sentence = okt.morphs(sentence, stem=True)\n",
        "    tokenized_sentence = mecab.morphs(sentence)\n",
        "    # tokenized_sentence = sentence.split()\n",
        "\n",
        "    X_train.append(tokenized_sentence)\n",
        "\n",
        "X_train[:5]"
      ],
      "metadata": {
        "colab": {
          "base_uri": "https://localhost:8080/"
        },
        "id": "PmKEsrSG32wF",
        "outputId": "cdc4187d-2cf0-4124-a7f5-e8c70f5604a3"
      },
      "execution_count": 38,
      "outputs": [
        {
          "output_type": "stream",
          "name": "stderr",
          "text": [
            "100%|██████████| 6000/6000 [00:00<00:00, 39021.38it/s]\n"
          ]
        },
        {
          "output_type": "execute_result",
          "data": {
            "text/plain": [
              "[['밟', '어'],\n",
              " ['이게', '말', '이', '돼'],\n",
              " ['이거', '저번', '에', '했', '지', '않', '음'],\n",
              " ['대', '혼돈', '의', '풍토', '토다'],\n",
              " ['풍월', '량', '믿', '고', '마리오', '골랐', '다구']]"
            ]
          },
          "metadata": {},
          "execution_count": 38
        }
      ]
    },
    {
      "cell_type": "code",
      "source": [
        "X_test = []\n",
        "for sentence in tqdm(test_data['TEXT']):\n",
        "    # tokenized_sentence = okt.morphs(sentence, stem=True)\n",
        "    tokenized_sentence = mecab.morphs(sentence)\n",
        "    # tokenized_sentence = sentence.split()\n",
        "    X_test.append(tokenized_sentence)"
      ],
      "metadata": {
        "colab": {
          "base_uri": "https://localhost:8080/"
        },
        "id": "OMqfa4yv4Bww",
        "outputId": "136ae999-4ada-4e5e-d6eb-406f55820654"
      },
      "execution_count": 39,
      "outputs": [
        {
          "output_type": "stream",
          "name": "stderr",
          "text": [
            "100%|██████████| 1224/1224 [00:00<00:00, 34644.49it/s]\n"
          ]
        }
      ]
    },
    {
      "cell_type": "markdown",
      "source": [
        "정수 인코딩"
      ],
      "metadata": {
        "id": "rrmLCDkR4IRD"
      }
    },
    {
      "cell_type": "code",
      "source": [
        "tokenizer = Tokenizer()\n",
        "tokenizer.fit_on_texts(X_train)\n",
        "\n",
        "print(tokenizer.word_index)"
      ],
      "metadata": {
        "id": "Ahh59r7g4KCP"
      },
      "execution_count": null,
      "outputs": []
    },
    {
      "cell_type": "code",
      "source": [
        "threshold = 2\n",
        "total_cnt = len(tokenizer.word_index) # 단어의 수\n",
        "rare_cnt = 0 # 등장 빈도수가 threshold보다 작은 단어의 개수\n",
        "total_freq = 0 # 훈련 데이터의 전체 단어 빈도수 총 합\n",
        "rare_freq = 0 # 등장 빈도수가 threshold보다 작은 단어의 등장 빈도수의 총 합\n",
        "\n",
        "# 단어와 빈도수의 쌍(pair)을 key와 value로 받는다.\n",
        "for key, value in tokenizer.word_counts.items():\n",
        "    total_freq = total_freq + value\n",
        "\n",
        "    # 단어의 등장 빈도수가 threshold보다 작으면\n",
        "    if(value < threshold):\n",
        "        rare_cnt = rare_cnt + 1\n",
        "        rare_freq = rare_freq + value\n",
        "\n",
        "print('단어 집합 크기 :',total_cnt)\n",
        "print('등장 빈도가 %s번 이하인 단어 수: %s'%(threshold - 1, rare_cnt))\n",
        "print(\"희귀 단어 비율:\", (rare_cnt / total_cnt)*100)\n",
        "print(\"희귀 단어 등장 빈도 비율:\", (rare_freq / total_freq)*100)"
      ],
      "metadata": {
        "colab": {
          "base_uri": "https://localhost:8080/"
        },
        "id": "GCk2gNPd4QP0",
        "outputId": "ba0a9839-c1bb-4996-8bfb-4d41b2574655"
      },
      "execution_count": 41,
      "outputs": [
        {
          "output_type": "stream",
          "name": "stdout",
          "text": [
            "단어 집합 크기 : 2469\n",
            "등장 빈도가 1번 이하인 단어 수: 1277\n",
            "희귀 단어 비율: 51.72134467395707\n",
            "희귀 단어 등장 빈도 비율: 7.059538946320969\n"
          ]
        }
      ]
    },
    {
      "cell_type": "code",
      "source": [
        "# 전체 단어 개수 중 빈도수 1이하인 단어는 제거.\n",
        "# 0번 패딩 토큰을 고려하여 + 1\n",
        "vocab_size = total_cnt - rare_cnt + 1\n",
        "print('단어 집합의 크기 :',vocab_size)"
      ],
      "metadata": {
        "colab": {
          "base_uri": "https://localhost:8080/"
        },
        "id": "kYXQOl2T4dDn",
        "outputId": "6030b307-61a5-4496-e2e7-5516ae9faf2f"
      },
      "execution_count": 42,
      "outputs": [
        {
          "output_type": "stream",
          "name": "stdout",
          "text": [
            "단어 집합의 크기 : 1193\n"
          ]
        }
      ]
    },
    {
      "cell_type": "code",
      "source": [
        "tokenizer = Tokenizer(vocab_size) \n",
        "tokenizer.fit_on_texts(X_train)\n",
        "X_train = tokenizer.texts_to_sequences(X_train)\n",
        "X_test = tokenizer.texts_to_sequences(X_test)\n",
        "\n",
        "print(X_train[:3])"
      ],
      "metadata": {
        "id": "QGiBmoIP4kBf"
      },
      "execution_count": null,
      "outputs": []
    },
    {
      "cell_type": "code",
      "source": [
        "y_train = np.array(train_data['LABEL'])\n",
        "y_test = np.array(test_data['LABEL'])"
      ],
      "metadata": {
        "id": "zQY8CxOl4sWV"
      },
      "execution_count": 44,
      "outputs": []
    },
    {
      "cell_type": "code",
      "source": [
        "drop_train = [index for index, sentence in enumerate(X_train) if len(sentence) < 1]\n",
        "\n",
        "X_train = np.delete(X_train, drop_train, axis=0)\n",
        "y_train = np.delete(y_train, drop_train, axis=0)\n",
        "print(len(X_train))\n",
        "print(len(y_train))"
      ],
      "metadata": {
        "id": "c5LnZquD7xTR"
      },
      "execution_count": null,
      "outputs": []
    },
    {
      "cell_type": "markdown",
      "source": [
        "패딩"
      ],
      "metadata": {
        "id": "2hYSJHNj6pOM"
      }
    },
    {
      "cell_type": "code",
      "source": [
        "print('최대 길이 :',max(len(review) for review in X_train))\n",
        "print('평균 길이 :',sum(map(len, X_train))/len(X_train))"
      ],
      "metadata": {
        "colab": {
          "base_uri": "https://localhost:8080/"
        },
        "id": "LNRtdvGf6qj-",
        "outputId": "ccbb972c-f107-4e13-f858-71a5f6321a41"
      },
      "execution_count": 46,
      "outputs": [
        {
          "output_type": "stream",
          "name": "stdout",
          "text": [
            "최대 길이 : 69\n",
            "평균 길이 : 2.870411473450572\n"
          ]
        }
      ]
    },
    {
      "cell_type": "code",
      "source": [
        "max_len = 20\n",
        "X_train = pad_sequences(X_train, maxlen=max_len)\n",
        "X_test = pad_sequences(X_test, maxlen=max_len)"
      ],
      "metadata": {
        "id": "7UYB1UJD61n9"
      },
      "execution_count": 47,
      "outputs": []
    },
    {
      "cell_type": "markdown",
      "source": [
        "### LSTM으로 분류"
      ],
      "metadata": {
        "id": "mc5_zbUl6-5L"
      }
    },
    {
      "cell_type": "code",
      "source": [
        "from tensorflow.keras.layers import Embedding, Dense, LSTM\n",
        "from tensorflow.keras.models import Sequential\n",
        "from tensorflow.keras.models import load_model\n",
        "from tensorflow.keras.callbacks import EarlyStopping, ModelCheckpoint"
      ],
      "metadata": {
        "id": "dMr1GwJZ-OPN"
      },
      "execution_count": 55,
      "outputs": []
    },
    {
      "cell_type": "markdown",
      "source": [
        "### 해당 블럭을 건너뛰고 아래 코드에서 바로 모델을 받을 수 있습니다!"
      ],
      "metadata": {
        "id": "P5Wmej3s-QRk"
      }
    },
    {
      "cell_type": "code",
      "source": [
        "embedding_dim = 100\n",
        "hidden_units = 128\n",
        "\n",
        "model = Sequential()\n",
        "model.add(Embedding(vocab_size, embedding_dim))\n",
        "model.add(LSTM(hidden_units))\n",
        "model.add(Dense(1, activation='sigmoid'))\n",
        "\n",
        "es = EarlyStopping(monitor='val_loss', mode='min', verbose=1, patience=4)\n",
        "mc = ModelCheckpoint('best_model.h5', monitor='val_acc', mode='max', verbose=1, save_best_only=True)\n",
        "\n",
        "model.compile(optimizer='rmsprop', loss='binary_crossentropy', metrics=['acc'])\n",
        "history = model.fit(X_train, y_train, epochs=15, callbacks=[es, mc], batch_size=64, validation_split=0.2)"
      ],
      "metadata": {
        "id": "v1wsI3Dg6-WM"
      },
      "execution_count": null,
      "outputs": []
    },
    {
      "cell_type": "code",
      "source": [
        "# 역대 에포크중 가장 최고 정확도의 모델 load 입니다. \n",
        "!gdown https://drive.google.com/uc?id=18RgTL-B9tkUco9TYPGnM3w57kEpOx0rF\n",
        "\n",
        "# 모델 다운로드\n",
        "from tensorflow.keras.models import load_model\n",
        "loaded_model = load_model('/content/best_model.h5')\n"
      ],
      "metadata": {
        "colab": {
          "base_uri": "https://localhost:8080/"
        },
        "id": "65nIRUbKyiQ1",
        "outputId": "10eceac6-1c61-46c4-ffb5-41e64d6a7817"
      },
      "execution_count": 59,
      "outputs": [
        {
          "output_type": "stream",
          "name": "stdout",
          "text": [
            "Downloading...\n",
            "From: https://drive.google.com/uc?id=18RgTL-B9tkUco9TYPGnM3w57kEpOx0rF\n",
            "To: /content/best_model.h5\n",
            "\r  0% 0.00/1.93M [00:00<?, ?B/s]\r100% 1.93M/1.93M [00:00<00:00, 161MB/s]\n"
          ]
        }
      ]
    },
    {
      "cell_type": "code",
      "source": [
        "loaded_model = load_model('best_model.h5')\n",
        "print(\"\\n정확도: %.4f\" % (loaded_model.evaluate(X_test, y_test)[1]))\n",
        "\n",
        "# split => 0.7574\n",
        "# mecab => 0.8031\n",
        "# okt => 0.7810"
      ],
      "metadata": {
        "colab": {
          "base_uri": "https://localhost:8080/"
        },
        "id": "uZuvBY8b9pQk",
        "outputId": "1b8d83f9-bfc4-4cf9-d5b3-ada426b4d5fa"
      },
      "execution_count": 60,
      "outputs": [
        {
          "output_type": "stream",
          "name": "stdout",
          "text": [
            "39/39 [==============================] - 1s 10ms/step - loss: 0.4439 - acc: 0.8031\n",
            "\n",
            "정확도: 0.8031\n"
          ]
        }
      ]
    },
    {
      "cell_type": "code",
      "source": [
        "def sentiment_predict(new_sentence):\n",
        "  output = new_sentence\n",
        "  new_sentence = re.sub(r'[^ㄱ-ㅎㅏ-ㅣ가-힣 ]','', new_sentence)\n",
        "  # new_sentence = okt.morphs(new_sentence, stem=True)\n",
        "  new_sentence = mecab.morphs(new_sentence)\n",
        "  # new_sentence = new_sentence.split()\n",
        "\n",
        "  encoded = tokenizer.texts_to_sequences([new_sentence]) # 정수 인코딩\n",
        "  pad_new = pad_sequences(encoded, maxlen = max_len) # 패딩\n",
        "  score = float(loaded_model.predict(pad_new)) # 예측\n",
        "  if(score > 0.5):\n",
        "    print(output + \" : {:.2f}% 확률로 풍월량 우승!!\".format(score * 100))\n",
        "  else:\n",
        "    print(output + \" : {:.2f}% 확률로 이번마 낙마!!\".format((1 - score) * 100))"
      ],
      "metadata": {
        "id": "XQhpZA0v9wCi"
      },
      "execution_count": 71,
      "outputs": []
    },
    {
      "cell_type": "code",
      "source": [
        "print(\"실제 방송과 맞는 예측\\n\")\n",
        "sentiment_predict('풍월량 우승')\n",
        "sentiment_predict('3번마 탈락')\n",
        "sentiment_predict('풍월량 개모태')\n",
        "sentiment_predict('루')\n",
        "sentiment_predict('정배 우승')\n",
        "sentiment_predict('엄마 난 커서 풍월량이 될래요!')\n",
        "sentiment_predict('ㄹㅇㅋㅋ')\n",
        "\n",
        "print(\"\\n실제 방송과 잘 맞지 않는 예측\\n\")\n",
        "sentiment_predict('마리오 우승')\n",
        "sentiment_predict('아니 제발 형')"
      ],
      "metadata": {
        "colab": {
          "base_uri": "https://localhost:8080/"
        },
        "id": "FJTWNkyT96n9",
        "outputId": "2ca7bd28-11f2-4129-c662-6c260917b613"
      },
      "execution_count": 73,
      "outputs": [
        {
          "output_type": "stream",
          "name": "stdout",
          "text": [
            "실제 방송과 맞는 예측\n",
            "\n",
            "풍월량 우승 : 97.94% 확률로 풍월량 우승!!\n",
            "3번마 탈락 : 99.85% 확률로 이번마 낙마!!\n",
            "풍월량 개모태 : 83.62% 확률로 이번마 낙마!!\n",
            "루 : 94.69% 확률로 이번마 낙마!!\n",
            "정배 우승 : 96.24% 확률로 풍월량 우승!!\n",
            "엄마 난 커서 풍월량이 될래요! : 69.43% 확률로 풍월량 우승!!\n",
            "ㄹㅇㅋㅋ : 71.52% 확률로 이번마 낙마!!\n",
            "\n",
            "실제 방송과 잘 맞지 않는 예측\n",
            "\n",
            "마리오 우승 : 89.78% 확률로 풍월량 우승!!\n",
            "아니 제발 형 : 70.49% 확률로 풍월량 우승!!\n"
          ]
        }
      ]
    }
  ]
}