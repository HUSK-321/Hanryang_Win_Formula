{
  "nbformat": 4,
  "nbformat_minor": 0,
  "metadata": {
    "colab": {
      "name": "Untitled6.ipynb",
      "provenance": [],
      "collapsed_sections": [],
      "authorship_tag": "ABX9TyMZfh+ZW0scNwJm9XiXVxir",
      "include_colab_link": true
    },
    "kernelspec": {
      "name": "python3",
      "display_name": "Python 3"
    },
    "language_info": {
      "name": "python"
    },
    "accelerator": "GPU"
  },
  "cells": [
    {
      "cell_type": "markdown",
      "metadata": {
        "id": "view-in-github",
        "colab_type": "text"
      },
      "source": [
        "<a href=\"https://colab.research.google.com/github/JangHanjun/Hanryang_Win_Formula/blob/main/Untitled6.ipynb\" target=\"_parent\"><img src=\"https://colab.research.google.com/assets/colab-badge.svg\" alt=\"Open In Colab\"/></a>"
      ]
    },
    {
      "cell_type": "code",
      "source": [
        "!pip install -U torchtext==0.10.0"
      ],
      "metadata": {
        "id": "Ing3c628Zjsj"
      },
      "execution_count": null,
      "outputs": []
    },
    {
      "cell_type": "code",
      "source": [
        "!git clone https://github.com/SOMJANG/Mecab-ko-for-Google-Colab.git\n",
        "%cd Mecab-ko-for-Google-Colab\n",
        "!bash install_mecab-ko_on_colab190912.sh"
      ],
      "metadata": {
        "id": "5hIb95RRfeE4"
      },
      "execution_count": null,
      "outputs": []
    },
    {
      "cell_type": "code",
      "execution_count": 59,
      "metadata": {
        "id": "ZtU2GIgmVEw0"
      },
      "outputs": [],
      "source": [
        "import torch\n",
        "import torch.nn as nn\n",
        "import torch.nn.functional as F\n",
        "from torchtext.legacy import data, datasets\n",
        "from torchtext.legacy.data import TabularDataset\n",
        "\n",
        "from konlpy.tag import Mecab\n",
        "from gensim.models.word2vec import Word2Vec\n",
        "from tqdm import tqdm\n",
        "\n",
        "import random\n",
        "\n",
        "import numpy as np\n",
        "\n",
        "import pandas as pd\n",
        "import matplotlib.pyplot as plt"
      ]
    },
    {
      "cell_type": "markdown",
      "source": [
        "### 데이터셋 로드 및 분류"
      ],
      "metadata": {
        "id": "N4qOcN2yl1Lj"
      }
    },
    {
      "cell_type": "code",
      "source": [
        "chat_log = pd.read_csv('/content/chatlog_traindata.csv')\n",
        "\n",
        "chat_log.head()"
      ],
      "metadata": {
        "colab": {
          "base_uri": "https://localhost:8080/",
          "height": 206
        },
        "id": "-h48p6tob_75",
        "outputId": "d53df9b6-038a-4b80-94f6-e5d5b35b96c9"
      },
      "execution_count": 7,
      "outputs": [
        {
          "output_type": "execute_result",
          "data": {
            "text/plain": [
              "      TEXT  LABEL\n",
              "0  이거 할만하다      1\n",
              "1        오      1\n",
              "2   슈마무스메       1\n",
              "3        어      1\n",
              "4        오      1"
            ],
            "text/html": [
              "\n",
              "  <div id=\"df-ccfed886-4bf3-4058-b67f-de8a4a3e4266\">\n",
              "    <div class=\"colab-df-container\">\n",
              "      <div>\n",
              "<style scoped>\n",
              "    .dataframe tbody tr th:only-of-type {\n",
              "        vertical-align: middle;\n",
              "    }\n",
              "\n",
              "    .dataframe tbody tr th {\n",
              "        vertical-align: top;\n",
              "    }\n",
              "\n",
              "    .dataframe thead th {\n",
              "        text-align: right;\n",
              "    }\n",
              "</style>\n",
              "<table border=\"1\" class=\"dataframe\">\n",
              "  <thead>\n",
              "    <tr style=\"text-align: right;\">\n",
              "      <th></th>\n",
              "      <th>TEXT</th>\n",
              "      <th>LABEL</th>\n",
              "    </tr>\n",
              "  </thead>\n",
              "  <tbody>\n",
              "    <tr>\n",
              "      <th>0</th>\n",
              "      <td>이거 할만하다</td>\n",
              "      <td>1</td>\n",
              "    </tr>\n",
              "    <tr>\n",
              "      <th>1</th>\n",
              "      <td>오</td>\n",
              "      <td>1</td>\n",
              "    </tr>\n",
              "    <tr>\n",
              "      <th>2</th>\n",
              "      <td>슈마무스메</td>\n",
              "      <td>1</td>\n",
              "    </tr>\n",
              "    <tr>\n",
              "      <th>3</th>\n",
              "      <td>어</td>\n",
              "      <td>1</td>\n",
              "    </tr>\n",
              "    <tr>\n",
              "      <th>4</th>\n",
              "      <td>오</td>\n",
              "      <td>1</td>\n",
              "    </tr>\n",
              "  </tbody>\n",
              "</table>\n",
              "</div>\n",
              "      <button class=\"colab-df-convert\" onclick=\"convertToInteractive('df-ccfed886-4bf3-4058-b67f-de8a4a3e4266')\"\n",
              "              title=\"Convert this dataframe to an interactive table.\"\n",
              "              style=\"display:none;\">\n",
              "        \n",
              "  <svg xmlns=\"http://www.w3.org/2000/svg\" height=\"24px\"viewBox=\"0 0 24 24\"\n",
              "       width=\"24px\">\n",
              "    <path d=\"M0 0h24v24H0V0z\" fill=\"none\"/>\n",
              "    <path d=\"M18.56 5.44l.94 2.06.94-2.06 2.06-.94-2.06-.94-.94-2.06-.94 2.06-2.06.94zm-11 1L8.5 8.5l.94-2.06 2.06-.94-2.06-.94L8.5 2.5l-.94 2.06-2.06.94zm10 10l.94 2.06.94-2.06 2.06-.94-2.06-.94-.94-2.06-.94 2.06-2.06.94z\"/><path d=\"M17.41 7.96l-1.37-1.37c-.4-.4-.92-.59-1.43-.59-.52 0-1.04.2-1.43.59L10.3 9.45l-7.72 7.72c-.78.78-.78 2.05 0 2.83L4 21.41c.39.39.9.59 1.41.59.51 0 1.02-.2 1.41-.59l7.78-7.78 2.81-2.81c.8-.78.8-2.07 0-2.86zM5.41 20L4 18.59l7.72-7.72 1.47 1.35L5.41 20z\"/>\n",
              "  </svg>\n",
              "      </button>\n",
              "      \n",
              "  <style>\n",
              "    .colab-df-container {\n",
              "      display:flex;\n",
              "      flex-wrap:wrap;\n",
              "      gap: 12px;\n",
              "    }\n",
              "\n",
              "    .colab-df-convert {\n",
              "      background-color: #E8F0FE;\n",
              "      border: none;\n",
              "      border-radius: 50%;\n",
              "      cursor: pointer;\n",
              "      display: none;\n",
              "      fill: #1967D2;\n",
              "      height: 32px;\n",
              "      padding: 0 0 0 0;\n",
              "      width: 32px;\n",
              "    }\n",
              "\n",
              "    .colab-df-convert:hover {\n",
              "      background-color: #E2EBFA;\n",
              "      box-shadow: 0px 1px 2px rgba(60, 64, 67, 0.3), 0px 1px 3px 1px rgba(60, 64, 67, 0.15);\n",
              "      fill: #174EA6;\n",
              "    }\n",
              "\n",
              "    [theme=dark] .colab-df-convert {\n",
              "      background-color: #3B4455;\n",
              "      fill: #D2E3FC;\n",
              "    }\n",
              "\n",
              "    [theme=dark] .colab-df-convert:hover {\n",
              "      background-color: #434B5C;\n",
              "      box-shadow: 0px 1px 3px 1px rgba(0, 0, 0, 0.15);\n",
              "      filter: drop-shadow(0px 1px 2px rgba(0, 0, 0, 0.3));\n",
              "      fill: #FFFFFF;\n",
              "    }\n",
              "  </style>\n",
              "\n",
              "      <script>\n",
              "        const buttonEl =\n",
              "          document.querySelector('#df-ccfed886-4bf3-4058-b67f-de8a4a3e4266 button.colab-df-convert');\n",
              "        buttonEl.style.display =\n",
              "          google.colab.kernel.accessAllowed ? 'block' : 'none';\n",
              "\n",
              "        async function convertToInteractive(key) {\n",
              "          const element = document.querySelector('#df-ccfed886-4bf3-4058-b67f-de8a4a3e4266');\n",
              "          const dataTable =\n",
              "            await google.colab.kernel.invokeFunction('convertToInteractive',\n",
              "                                                     [key], {});\n",
              "          if (!dataTable) return;\n",
              "\n",
              "          const docLinkHtml = 'Like what you see? Visit the ' +\n",
              "            '<a target=\"_blank\" href=https://colab.research.google.com/notebooks/data_table.ipynb>data table notebook</a>'\n",
              "            + ' to learn more about interactive tables.';\n",
              "          element.innerHTML = '';\n",
              "          dataTable['output_type'] = 'display_data';\n",
              "          await google.colab.output.renderOutput(dataTable, element);\n",
              "          const docLink = document.createElement('div');\n",
              "          docLink.innerHTML = docLinkHtml;\n",
              "          element.appendChild(docLink);\n",
              "        }\n",
              "      </script>\n",
              "    </div>\n",
              "  </div>\n",
              "  "
            ]
          },
          "metadata": {},
          "execution_count": 7
        }
      ]
    },
    {
      "cell_type": "code",
      "source": [
        "train_df = chat_log[:4000]\n",
        "test_df = chat_log[4000:]\n",
        "\n",
        "train_df.to_csv(\"train_data.csv\", index=False)\n",
        "test_df.to_csv(\"test_data.csv\", index=False)"
      ],
      "metadata": {
        "id": "j7192IZ9lN2o"
      },
      "execution_count": 103,
      "outputs": []
    },
    {
      "cell_type": "code",
      "source": [
        "display(train_df.LABEL.value_counts())\n",
        "display(train_df.LABEL.value_counts().plot(kind='bar'))"
      ],
      "metadata": {
        "colab": {
          "base_uri": "https://localhost:8080/",
          "height": 335
        },
        "id": "yyvQ0YcZicYG",
        "outputId": "aa901d81-364c-42a8-debd-7b19a175239e"
      },
      "execution_count": 105,
      "outputs": [
        {
          "output_type": "display_data",
          "data": {
            "text/plain": [
              "0    2374\n",
              "1    1626\n",
              "Name: LABEL, dtype: int64"
            ]
          },
          "metadata": {}
        },
        {
          "output_type": "display_data",
          "data": {
            "text/plain": [
              "<matplotlib.axes._subplots.AxesSubplot at 0x7faf5967dd50>"
            ]
          },
          "metadata": {}
        },
        {
          "output_type": "display_data",
          "data": {
            "text/plain": [
              "<Figure size 432x288 with 1 Axes>"
            ],
            "image/png": "[encoded data removed]"
          },
          "metadata": {
            "needs_background": "light"
          }
        }
      ]
    },
    {
      "cell_type": "markdown",
      "source": [
        "### 토큰화"
      ],
      "metadata": {
        "id": "k7567P4Llr7v"
      }
    },
    {
      "cell_type": "code",
      "source": [
        "# 필드 정의\n",
        "tokenizer = Mecab()\n",
        "\n",
        "TEXT = data.Field(sequential=True,\n",
        "                  use_vocab=True,\n",
        "                  tokenize=tokenizer.morphs, # 토크나이저로는 Mecab 사용.\n",
        "                  lower=True,\n",
        "                  batch_first=True,\n",
        "                  fix_length=20)\n",
        "\n",
        "LABEL = data.Field(sequential=False,\n",
        "                   use_vocab=False,\n",
        "                   is_target=True)"
      ],
      "metadata": {
        "id": "0_6AdUmnlC23"
      },
      "execution_count": 106,
      "outputs": []
    },
    {
      "cell_type": "code",
      "source": [
        "# 데이터셋 만들기\n",
        "train_data, test_data = TabularDataset.splits(\n",
        "        path='.', train='train_data.csv', test='test_data.csv', format='csv',\n",
        "        fields=[('text', TEXT), ('label', LABEL)], skip_header=True)"
      ],
      "metadata": {
        "id": "iNCWHkgPlM6H"
      },
      "execution_count": 107,
      "outputs": []
    },
    {
      "cell_type": "code",
      "source": [
        "print(vars(train_data[0]))"
      ],
      "metadata": {
        "colab": {
          "base_uri": "https://localhost:8080/"
        },
        "id": "KNgpihr_laW3",
        "outputId": "e159b047-d028-40bd-fbf9-d2030c6671b0"
      },
      "execution_count": 109,
      "outputs": [
        {
          "output_type": "stream",
          "name": "stdout",
          "text": [
            "{'text': ['이거', '할', '만', '하', '다'], 'label': '1'}\n"
          ]
        }
      ]
    },
    {
      "cell_type": "markdown",
      "source": [
        "### 단어 집합 만들기"
      ],
      "metadata": {
        "id": "KB51LnvNlpTY"
      }
    },
    {
      "cell_type": "code",
      "source": [
        "TEXT.build_vocab(train_data, min_freq=2, max_size=5000)"
      ],
      "metadata": {
        "id": "_Cunz66Rlo1J"
      },
      "execution_count": 110,
      "outputs": []
    },
    {
      "cell_type": "code",
      "source": [
        "print('단어 집합의 크기 : {}'.format(len(TEXT.vocab)))\n",
        "vocab_size = TEXT.vocab"
      ],
      "metadata": {
        "colab": {
          "base_uri": "https://localhost:8080/"
        },
        "id": "GBqTxBp-mHv4",
        "outputId": "eb6a10c4-c4e6-4c6c-8619-a6421cf6317f"
      },
      "execution_count": 115,
      "outputs": [
        {
          "output_type": "stream",
          "name": "stdout",
          "text": [
            "단어 집합의 크기 : 840\n"
          ]
        }
      ]
    },
    {
      "cell_type": "code",
      "source": [
        "print(TEXT.vocab.stoi)"
      ],
      "metadata": {
        "colab": {
          "base_uri": "https://localhost:8080/"
        },
        "id": "i1SnE6YDmLD0",
        "outputId": "2c5e8745-fe21-42d7-dea7-9bc20c01b527"
      },
      "execution_count": 112,
      "outputs": [
        {
          "output_type": "stream",
          "name": "stdout",
          "text": [
            "defaultdict(<bound method Vocab._default_unk_index of <torchtext.legacy.vocab.Vocab object at 0x7faf5966bc90>>, {'<unk>': 0, '<pad>': 1, '번': 2, '마': 3, '다': 4, '어': 5, '오': 6, '아': 7, '마리오': 8, '이': 9, '와': 10, '컷': 11, '가': 12, '네': 13, '맵': 14, '하': 15, '고': 16, '우승': 17, '배': 18, '개': 19, '해': 20, '야': 21, '는': 22, '에': 23, '안': 24, '형': 25, '캇': 26, '나': 27, '요': 28, '이걸': 29, '지': 30, '뭐': 31, '못': 32, '었': 33, '거': 34, '탈락': 35, '이게': 36, '있': 37, '자': 38, '루': 39, '갔': 40, '이거': 41, '낙마': 42, '모태': 43, '루이지': 44, '모함': 45, '힘내': 46, '했': 47, '도': 48, '실력': 49, '어라': 50, '잘': 51, '가즈': 52, '의': 53, '캬': 54, '중': 55, '터졌': 56, '풍월': 57, '느긋': 58, '는데': 59, '달달': 60, '대기': 61, '들': 62, '량': 63, '만': 64, '먹': 65, '이건': 66, '아니': 67, '왜': 68, '풍': 69, '풍선': 70, '등': 71, '세요': 72, '죠': 73, '은': 74, '제발': 75, '진짜': 76, '믿': 77, '열': 78, '준비': 79, '이미': 80, '나이스': 81, '였': 82, '주': 83, '기출': 84, '머': 85, '사기': 86, '쓰': 87, '없': 88, '엌': 89, '을': 90, '한': 91, '헐': 92, '게': 93, '너무': 94, '망': 95, '맨': 96, '멸망': 97, '오오': 98, '광탈': 99, '내': 100, '던': 101, '음': 102, '좋': 103, '호재': 104, '냐': 105, '오늘': 106, '인가': 107, '개웃': 108, '과거': 109, '끝': 110, '돼': 111, '리': 112, '버섯': 113, '그': 114, '대박': 115, '설마': 116, '아까': 117, '꺼': 118, '되': 119, '어요': 120, '역시': 121, '잼': 122, '감': 123, '같': 124, '기': 125, '날': 126, '노': 127, '다구': 128, '뒤주': 129, '떡': 130, '색': 131, '아웃': 132, '알': 133, '았': 134, '양파': 135, '억': 136, '웃': 137, '전': 138, '침착': 139, '포기': 140, '포인트': 141, '달려': 142, '따': 143, '어디': 144, '여': 145, '이기': 146, '화이팅': 147, '같이': 148, '냐고': 149, '달': 150, '대': 151, '또': 152, '라': 153, '면': 154, '모': 155, '오열': 156, '이겼': 157, '좀': 158, '퇴화': 159, '한참': 160, '혼자': 161, '경마장': 162, '똥': 163, '마가': 164, '말': 165, '망했': 166, '색깔': 167, '앗': 168, '앜': 169, '월량': 170, '트': 171, '합니다': 172, '건': 173, '걸': 174, '겠': 175, '라고': 176, '애': 177, '이제': 178, '인': 179, '졌': 180, '개모': 181, '기네': 182, '듯': 183, '물': 184, '방향': 185, '번이': 186, '빨라': 187, '시': 188, '역전': 189, '축하': 190, '크': 191, '타': 192, '그냥': 193, '까': 194, '나요': 195, '다고': 196, '명': 197, '못하': 198, '봐': 199, '써': 200, '않': 201, '은데': 202, '응': 203, '인데': 204, '임': 205, '주니어': 206, '진작': 207, '치': 208, '황': 209, '휴': 210, '간다': 211, '까지': 212, '나오': 213, '달랐': 214, '더': 215, '력': 216, '마야': 217, '망해': 218, '맞': 219, '바로': 220, '반칙': 221, '스': 222, '승리': 223, '승부조작': 224, '아요': 225, '아직': 226, '어서': 227, '오예': 228, '웃겨': 229, '잃': 230, '적': 231, '죽': 232, '차': 233, '최': 234, '출발': 235, '파랑': 236, '함': 237, '햇': 238, '구나': 239, '넌': 240, '라니': 241, '로': 242, '를': 243, '막자': 244, '별': 245, '불': 246, '실': 247, '싫': 248, '아아': 249, '압도': 250, '어야지': 251, '엇': 252, '예': 253, '으로': 254, '잘못': 255, '잡': 256, '폴': 257, '핑': 258, '핑크': 259, '해요': 260, '헉': 261, '각': 262, '구': 263, '굳이': 264, '그래도': 265, '근데': 266, '기다리': 267, '기출문제': 268, '났': 269, '넼': 270, '다리': 271, '다시': 272, '닼': 273, '돈': 274, '들어가': 275, '떨어질': 276, '마는': 277, '마리': 278, '마번': 279, '먼저': 280, '무친': 281, '방': 282, '버렸': 283, '보': 284, '복구': 285, '부터': 286, '상': 287, '서': 288, '승': 289, '시작': 290, '아이': 291, '앞': 292, '에서': 293, '에이': 294, '엔딩': 295, '영웅': 296, '와우': 297, '우마': 298, '위': 299, '정신': 300, '킹': 301, '터지': 302, '핑키': 303, '할': 304, '핵': 305, 'ㄹ': 306, 'ㅇㅋㅋ': 307, '갑니다': 308, '갓': 309, '갔었': 310, '개똥': 311, '과연': 312, '구독': 313, '굿': 314, '그거': 315, '그렇': 316, '긴': 317, '꼴': 318, '꾸': 319, '나와': 320, '너': 321, '누른': 322, '니': 323, '단기': 324, '댘': 325, '됨': 326, '땄': 327, '락': 328, '루이': 329, '마들': 330, '맞추': 331, '무': 332, '무스메': 333, '무슨': 334, '바보': 335, '배틀': 336, '비': 337, '빨': 338, '빨리': 339, '사망': 340, '셨': 341, '수': 342, '슈마': 343, '심지어': 344, '알려': 345, '야호': 346, '여기': 347, '역배': 348, '이겨': 349, '저': 350, '저번': 351, '줄': 352, '지금': 353, '질': 354, '짘': 355, '커트': 356, '케': 357, '탔': 358, '필요': 359, '필패': 360, '하나': 361, '한다': 362, '훈수': 363, '간': 364, '개꿀': 365, '걸리': 366, '곀': 367, '그래': 368, '그만': 369, '꼴찌': 370, '끼': 371, '느려': 372, '니까': 373, '님': 374, '다르': 375, '다음': 376, '달리': 377, '달립니다': 378, '당했': 379, '데': 380, '도착': 381, '둘': 382, '들어갔': 383, '때': 384, '뜨': 385, '라라': 386, '마요': 387, '막': 388, '만들': 389, '모대': 390, '모른다': 391, '뭔': 392, '미쳤': 393, '바': 394, '발언': 395, '벌써': 396, '봤': 397, '서로': 398, '성공': 399, '속': 400, '순간': 401, '신': 402, '아깝': 403, '아싸': 404, '앙': 405, '얏': 406, '에스': 407, '예상': 408, '온다': 409, '이번': 410, '일': 411, '입': 412, '잉': 413, '쟤': 414, '점': 415, '조': 416, '조졌': 417, '종': 418, '중독': 419, '줘': 420, '즈': 421, '찍': 422, '카트': 423, '컨': 424, '쿠': 425, '파': 426, '풉': 427, '하필': 428, '호우': 429, '히히': 430, '가요': 431, '갑자기': 432, '거거': 433, '거짓말': 434, '겜': 435, '경마': 436, '구리': 437, '구요': 438, '그걸': 439, '그게': 440, '기권': 441, '나이': 442, '날개': 443, '남': 444, '냐구': 445, '네요': 446, '놈': 447, '놔': 448, '뇨': 449, '눌러': 450, '느낌': 451, '느려요': 452, '느리': 453, '늦': 454, '다매': 455, '답': 456, '돌아왔': 457, '된다': 458, '두': 459, '뒤': 460, '드': 461, '드가': 462, '드디어': 463, '라따': 464, '랑': 465, '레전드': 466, '르': 467, '리듬': 468, '맞춰': 469, '몇': 470, '모야': 471, '무효': 472, '뭐한': 473, '뭔데': 474, '미리': 475, '미친': 476, '방금': 477, '방장': 478, '버린': 479, '번만': 480, '보다': 481, '본': 482, '볼': 483, '부러': 484, '불쌍': 485, '빠르': 486, '선두': 487, '선택': 488, '속도': 489, '스위밍': 490, '습니다': 491, '승률': 492, '시절': 493, '실수': 494, '아냐': 495, '아녀': 496, '아닌가': 497, '아님': 498, '아앙': 499, '악재': 500, '안심': 501, '약관': 502, '어떻게': 503, '어어어어': 504, '연승': 505, '오스': 506, '올라가': 507, '옹': 508, '외': 509, '우리': 510, '운': 511, '웃기': 512, '유지': 513, '육': 514, '이것': 515, '이길': 516, '이러': 517, '이슈': 518, '이제야': 519, '입장': 520, '잇': 521, '제': 522, '조작': 523, '주거': 524, '주작': 525, '중간': 526, '쥬': 527, '집중': 528, '짱': 529, '차려': 530, '차이': 531, '천': 532, '최단': 533, '추억': 534, '커': 535, '큰': 536, '키': 537, '퇴': 538, '파란': 539, '피지컬': 540, '하하': 541, '한자': 542, '핰': 543, '해서': 544, '햌': 545, '허': 546, '가망': 547, '강하': 548, '걍': 549, '거북': 550, '거의': 551, '건다': 552, '건데': 553, '걷': 554, '걸걸': 555, '겁나': 556, '것': 557, '게임': 558, '계속': 559, '고려': 560, '고마워': 561, '과': 562, '광속': 563, '구래': 564, '그러': 565, '급': 566, '기회': 567, '긴다': 568, '긴장': 569, '길': 570, '김': 571, '깃': 572, '꼬': 573, '꼼수': 574, '나가': 575, '나와라': 576, '낙오': 577, '낚시': 578, '냥': 579, '넘': 580, '넹': 581, '노란색': 582, '노랑': 583, '노우': 584, '녹': 585, '눈': 586, '눈뜨': 587, '눈치': 588, '눌': 589, '느': 590, '느릿': 591, '능지': 592, '닝': 593, '다는': 594, '다니': 595, '다다다다다': 596, '다른': 597, '다행': 598, '답답': 599, '당': 600, '당함': 601, '대체': 602, '더라': 603, '도박': 604, '도와': 605, '도킹': 606, '도핑': 607, '돌': 608, '동시': 609, '됐': 610, '된다고': 611, '될': 612, '두근두근': 613, '뒷목': 614, '드립니다': 615, '들어오': 616, '듬': 617, '떨어져': 618, '라구': 619, '럽': 620, '레일': 621, '려': 622, '렸': 623, '룰렛': 624, '뤀': 625, '리셋': 626, '마근': 627, '마도': 628, '만든': 629, '맛': 630, '망망': 631, '망하': 632, '맞췄': 633, '맨날': 634, '먄': 635, '머리': 636, '멈춰': 637, '멍': 638, '모르': 639, '모지': 640, '몸': 641, '못함': 642, '못해': 643, '무조건': 644, '무한': 645, '뭘': 646, '민폐': 647, '밑': 648, '박': 649, '밖에': 650, '반대': 651, '반데': 652, '배당': 653, '뱌': 654, '번가': 655, '번은': 656, '변화구': 657, '병': 658, '본인': 659, '부러운': 660, '부러졌': 661, '부러짐': 662, '부럽': 663, '부스터': 664, '부활': 665, '불안': 666, '빌리': 667, '빙': 668, '빠른데': 669, '빨리빨리': 670, '빵긋': 671, '빼': 672, '뽀': 673, '사': 674, '사람': 675, '산책': 676, '살려': 677, '살빼': 678, '삼': 679, '상중': 680, '상태': 681, '생각': 682, '선': 683, '선물': 684, '선언': 685, '설레': 686, '성': 687, '세여': 688, '세이브': 689, '소리': 690, '송이': 691, '솨': 692, '수고': 693, '숙제': 694, '순식간': 695, '스프링': 696, '시계': 697, '실패': 698, '십': 699, '싶': 700, '쏘': 701, '쓰레기': 702, '아아아아': 703, '아야': 704, '아오': 705, '악물': 706, '안대': 707, '안일': 708, '안함': 709, '앞서': 710, '애송이': 711, '양': 712, '어려운데': 713, '어렵': 714, '어용': 715, '어휴': 716, '억울': 717, '언제': 718, '업': 719, '엉': 720, '에요': 721, '엔': 722, '엥': 723, '연습': 724, '열심히': 725, '예스': 726, '예전': 727, '오마': 728, '오케이': 729, '올라간다': 730, '왕따': 731, '욕심': 732, '욧': 733, '우와': 734, '움직이': 735, '원래': 736, '유': 737, '으니까': 738, '으러': 739, '윽': 740, '은근': 741, '읍니다': 742, '의미': 743, '의혹': 744, '이김': 745, '이나': 746, '이딴': 747, '이런': 748, '이분': 749, '이상': 750, '이수': 751, '이스': 752, '이탈': 753, '익숙': 754, '인정': 755, '일단': 756, '입구': 757, '자강': 758, '자체': 759, '자키': 760, '잖아': 761, '재': 762, '재미': 763, '재밌': 764, '재산': 765, '잭': 766, '쟨': 767, '저런': 768, '전혀': 769, '절반': 770, '점수': 771, '정말': 772, '젠장': 773, '졌어요': 774, '조건': 775, '조아': 776, '조짐': 777, '좌': 778, '주행': 779, '준': 780, '줌': 781, '줘서': 782, '줬': 783, '쥐': 784, '지난주': 785, '지네': 786, '지성': 787, '짐': 788, '집': 789, '집니다': 790, '집단': 791, '짬': 792, '찍기': 793, '차례': 794, '착': 795, '채팅': 796, '처음': 797, '천천히': 798, '출격': 799, '치소': 800, '카': 801, '카아': 802, '카운터': 803, '카지노': 804, '탄': 805, '탈': 806, '탴': 807, '턱': 808, '투표': 809, '트루': 810, '파란색': 811, '판': 812, '팟': 813, '패': 814, '퍼': 815, '펀치': 816, '푸': 817, '필승': 818, '하지만': 819, '한강': 820, '한데': 821, '한테': 822, '할걸': 823, '함정': 824, '합': 825, '해라': 826, '해야': 827, '해짐': 828, '했었': 829, '혀': 830, '현질': 831, '혈압': 832, '홧팅': 833, '후': 834, '훨씬': 835, '흠': 836, '희망': 837, '히': 838, '힘': 839})\n"
          ]
        }
      ]
    },
    {
      "cell_type": "code",
      "source": [
        ""
      ],
      "metadata": {
        "id": "eaL2-kpZmPbK"
      },
      "execution_count": null,
      "outputs": []
    },
    {
      "cell_type": "markdown",
      "source": [
        "### Word2Vec 제작"
      ],
      "metadata": {
        "id": "JylhawYll6n1"
      }
    },
    {
      "cell_type": "code",
      "source": [
        "# 불용어 정의\n",
        "stopwords = ['의','가','은','들','는','좀','걍','과','도','를','으로','자','에','한','하다']\n",
        "\n",
        "mecab = Mecab()\n",
        "\n",
        "tokenized_data = []\n",
        "for sentence in tqdm(train_df['TEXT']):\n",
        "    tokenized_sentence = sentence.split()\n",
        "    stopwords_removed_sentence = [word for word in tokenized_sentence if not word in stopwords] # 불용어 제거\n",
        "    tokenized_data.append(stopwords_removed_sentence)\n"
      ],
      "metadata": {
        "colab": {
          "base_uri": "https://localhost:8080/"
        },
        "id": "63IY-SHhpqsI",
        "outputId": "af6a0103-7ccf-4576-fad7-08adfd3dd3d5"
      },
      "execution_count": 79,
      "outputs": [
        {
          "output_type": "stream",
          "name": "stderr",
          "text": [
            "100%|██████████| 3000/3000 [00:00<00:00, 185266.23it/s]\n"
          ]
        }
      ]
    },
    {
      "cell_type": "code",
      "source": [
        "print('채팅의 최대 길이 :',max(len(review) for review in tokenized_data))\n",
        "print('채팅의 평균 길이 :',sum(map(len, tokenized_data))/len(tokenized_data))\n",
        "plt.hist([len(review) for review in tokenized_data], bins=50)\n",
        "plt.xlabel('length of samples')\n",
        "plt.ylabel('number of samples')\n",
        "plt.show()"
      ],
      "metadata": {
        "colab": {
          "base_uri": "https://localhost:8080/",
          "height": 316
        },
        "id": "zSCBKFZpsV1Q",
        "outputId": "f7c0ffe9-48a3-4af8-fc8b-c1152cb01178"
      },
      "execution_count": 80,
      "outputs": [
        {
          "output_type": "stream",
          "name": "stdout",
          "text": [
            "채팅의 최대 길이 : 38\n",
            "채팅의 평균 길이 : 1.691\n"
          ]
        },
        {
          "output_type": "display_data",
          "data": {
            "text/plain": [
              "<Figure size 432x288 with 1 Axes>"
            ],
            "image/png": "[encoded data removed]"
          },
          "metadata": {
            "needs_background": "light"
          }
        }
      ]
    },
    {
      "cell_type": "code",
      "source": [
        "model = Word2Vec(sentences = tokenized_data, size = 70, window = 5, min_count = 2, workers = 4, sg = 0)"
      ],
      "metadata": {
        "id": "BoKgxpcPsjjZ"
      },
      "execution_count": 94,
      "outputs": []
    },
    {
      "cell_type": "code",
      "source": [
        "model.wv.vectors.shape"
      ],
      "metadata": {
        "colab": {
          "base_uri": "https://localhost:8080/"
        },
        "id": "Z9-uULXns6_i",
        "outputId": "385ee9b3-3a48-4540-f0a9-0b63e7f04494"
      },
      "execution_count": 95,
      "outputs": [
        {
          "output_type": "execute_result",
          "data": {
            "text/plain": [
              "(444, 70)"
            ]
          },
          "metadata": {},
          "execution_count": 95
        }
      ]
    },
    {
      "cell_type": "code",
      "source": [
        "model.wv.most_similar(\"마리오\")"
      ],
      "metadata": {
        "colab": {
          "base_uri": "https://localhost:8080/"
        },
        "id": "ElTTNbmHtBPG",
        "outputId": "464cdb03-c089-43d9-94bc-0584d97aafed"
      },
      "execution_count": 96,
      "outputs": [
        {
          "output_type": "execute_result",
          "data": {
            "text/plain": [
              "[('힘내', 0.3735713064670563),\n",
              " ('빨라', 0.35104015469551086),\n",
              " ('낙마', 0.3200837969779968),\n",
              " ('사기야', 0.31378403306007385),\n",
              " ('오늘', 0.3097088932991028),\n",
              " ('뭐해', 0.29895544052124023),\n",
              " ('번은', 0.2973538041114807),\n",
              " ('승', 0.28422364592552185),\n",
              " ('그래도', 0.279877245426178),\n",
              " ('등', 0.2644007205963135)]"
            ]
          },
          "metadata": {},
          "execution_count": 96
        }
      ]
    },
    {
      "cell_type": "markdown",
      "source": [
        "### RNN 모델 구현"
      ],
      "metadata": {
        "id": "_J8j3lF-nR68"
      }
    },
    {
      "cell_type": "code",
      "source": [
        "nn.RNN(input_size)"
      ],
      "metadata": {
        "id": "9r9UsCQ1c1ai"
      },
      "execution_count": 113,
      "outputs": []
    }
  ]
}